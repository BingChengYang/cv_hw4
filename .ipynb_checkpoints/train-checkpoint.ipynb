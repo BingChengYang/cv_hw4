{
 "cells": [
  {
   "cell_type": "code",
   "execution_count": null,
   "metadata": {},
   "outputs": [],
   "source": [
    "import torch\n",
    "import torch.nn as nn\n",
    "import torch.utils.data as Data\n",
    "import torchvision\n",
    "import torchvision.transforms as transform\n",
    "import matplotlib\n",
    "import matplotlib.pyplot as plt\n",
    "import torchvision.models as models\n",
    "import argparse\n",
    "# my own library\n",
    "import load_data_1\n",
    "import net"
   ]
  },
  {
   "cell_type": "code",
   "execution_count": null,
   "metadata": {},
   "outputs": [],
   "source": [
    "model = \"model.pkl\"\n",
    "lr = 0.0001\n",
    "epoches = 50\n",
    "mini_batch_size = 16\n",
    "load_model = True\n",
    "crop_size = 200\n",
    "scale = 3"
   ]
  },
  {
   "cell_type": "code",
   "execution_count": null,
   "metadata": {},
   "outputs": [],
   "source": [
    "lr_transform = transform.Compose([\n",
    "    transform.Resize((crop_size//scale, crop_size//scale)),\n",
    "    transform.Resize((crop_size, crop_size)),\n",
    "    transform.ToTensor(),\n",
    "])\n",
    "\n",
    "hr_transform = transform.Compose([\n",
    "    transform.ToTensor(),\n",
    "])\n",
    "\n",
    "img_transform = transform.Compose([\n",
    "    # transform.RandomCrop((crop_size, crop_size)),\n",
    "    transform.CenterCrop(crop_size),\n",
    "    transform.RandomHorizontalFlip(),\n",
    "    transform.RandomVerticalFlip(),\n",
    "    transform.RandomRotation(0, 360),\n",
    "    # transform.ToTensor(),\n",
    "])"
   ]
  },
  {
   "cell_type": "code",
   "execution_count": null,
   "metadata": {},
   "outputs": [],
   "source": [
    "if load_model == True:\n",
    "    network = torch.load('./model/'+model)\n",
    "else:\n",
    "    network = net.Net()\n",
    "print(network)\n",
    "device = torch.device(\"cuda:0\" if torch.cuda.is_available() else \"cpu\")\n",
    "print(device)\n",
    "network.to(device)"
   ]
  },
  {
   "cell_type": "code",
   "execution_count": null,
   "metadata": {},
   "outputs": [],
   "source": [
    "train_set = load_data_1.Load_traindata(transform=img_transform, lr_transform=lr_transform, hr_transform=hr_transform, crop_size=crop_size)\n",
    "train_load = Data.DataLoader(dataset=train_set, batch_size=mini_batch_size, shuffle=True)"
   ]
  },
  {
   "cell_type": "code",
   "execution_count": null,
   "metadata": {},
   "outputs": [],
   "source": [
    "optimizer = torch.optim.Adam(network.parameters(), lr=lr, weight_decay=0.0001)\n",
    "loss_func = nn.MSELoss(size_average=False)\n",
    "# loss_func = nn.SmoothL1Loss()\n",
    "scheduler =  torch.optim.lr_scheduler.StepLR(optimizer, step_size=20, gamma=0.1)"
   ]
  },
  {
   "cell_type": "code",
   "execution_count": null,
   "metadata": {
    "tags": []
   },
   "outputs": [],
   "source": [
    "for epoch in range(epoches):\n",
    "    print(epoch)\n",
    "    network.train()\n",
    "    # scheduler.step()\n",
    "    for step, (x, y) in enumerate(train_load):\n",
    "        x, y = x.to(device), y.to(device)\n",
    "        optimizer.zero_grad()\n",
    "        output = network(x)\n",
    "        loss = loss_func(output, y)\n",
    "        loss.backward()\n",
    "        optimizer.step()\n",
    "    print(loss)\n",
    "    if (epoch % 5) == 0:\n",
    "        torch.save(network, './model/model{}.pkl'.format(epoch))\n",
    "# save model\n",
    "torch.save(network, './model/model.pkl')"
   ]
  },
  {
   "cell_type": "code",
   "execution_count": null,
   "metadata": {},
   "outputs": [],
   "source": []
  }
 ],
 "metadata": {
  "kernelspec": {
   "display_name": "Python 3",
   "language": "python",
   "name": "python3"
  },
  "language_info": {
   "codemirror_mode": {
    "name": "ipython",
    "version": 3
   },
   "file_extension": ".py",
   "mimetype": "text/x-python",
   "name": "python",
   "nbconvert_exporter": "python",
   "pygments_lexer": "ipython3",
   "version": "3.8.3"
  }
 },
 "nbformat": 4,
 "nbformat_minor": 4
}
